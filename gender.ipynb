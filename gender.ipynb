{
 "cells": [
  {
   "cell_type": "code",
   "execution_count": 12,
   "metadata": {},
   "outputs": [],
   "source": [
    "import findspark\n",
    "import pyspark\n",
    "from pyspark.sql import SparkSession\n",
    "spark = SparkSession.builder.appName('heart').getOrCreate()\n",
    "df = spark.read.load('./gender.csv', format= \"csv\", header='true')\n",
    "# hd_data = df.toPandas()\n",
    "# hd_data.head()"
   ]
  },
  {
   "cell_type": "code",
   "execution_count": 13,
   "metadata": {},
   "outputs": [
    {
     "name": "stdout",
     "output_type": "stream",
     "text": [
      "+--------------------+----------+-----------+---------+--------+---------+--------+\n",
      "|          Occupation|  Category|All_workers|M_workers|M_weekly|F_workers|F_weekly|\n",
      "+--------------------+----------+-----------+---------+--------+---------+--------+\n",
      "|    Chief executives|MANAGEMENT|       1046|      763|    2251|      283|    1836|\n",
      "|General and opera...|MANAGEMENT|        823|      621|    1347|      202|    1002|\n",
      "|Marketing and sal...|MANAGEMENT|        948|      570|    1603|      378|    1258|\n",
      "|Administrative se...|MANAGEMENT|        170|       96|    1451|       73|     981|\n",
      "|Computer and info...|MANAGEMENT|        636|      466|    1817|      169|    1563|\n",
      "|  Financial managers|MANAGEMENT|       1124|      551|    1732|      573|    1130|\n",
      "|Human resources m...|MANAGEMENT|        254|       68|    1495|      186|    1274|\n",
      "|Transportation, s...|MANAGEMENT|        276|      224|    1006|       52|     749|\n",
      "|Education adminis...|MANAGEMENT|        778|      282|    1585|      496|    1252|\n",
      "|Food service mana...|MANAGEMENT|        763|      389|     820|      374|     680|\n",
      "|    Lodging managers|MANAGEMENT|        123|       54|    1171|       68|     902|\n",
      "|Medical and healt...|MANAGEMENT|        592|      154|    1422|      438|    1156|\n",
      "|Property, real es...|MANAGEMENT|        401|      171|    1137|      230|     823|\n",
      "|Social and commun...|MANAGEMENT|        305|      105|    1142|      200|     965|\n",
      "| Managers, all other|MANAGEMENT|       2803|     1717|    1525|     1085|    1213|\n",
      "|Wholesale and ret...|  BUSINESS|        142|       73|     886|       69|     985|\n",
      "|Purchasing agents...|  BUSINESS|        260|      136|    1020|      124|     986|\n",
      "|Claims adjusters,...|  BUSINESS|        317|      141|    1134|      176|     824|\n",
      "| Compliance officers|  BUSINESS|        235|      126|    1375|      109|    1025|\n",
      "|Human resources w...|  BUSINESS|        592|      151|    1158|      441|     984|\n",
      "+--------------------+----------+-----------+---------+--------+---------+--------+\n",
      "only showing top 20 rows\n",
      "\n"
     ]
    }
   ],
   "source": [
    "df.show()"
   ]
  },
  {
   "cell_type": "code",
   "execution_count": 14,
   "metadata": {},
   "outputs": [
    {
     "data": {
      "text/plain": [
       "[('Occupation', 'string'),\n",
       " ('Category', 'string'),\n",
       " ('All_workers', 'string'),\n",
       " ('M_workers', 'string'),\n",
       " ('M_weekly', 'string'),\n",
       " ('F_workers', 'string'),\n",
       " ('F_weekly', 'string')]"
      ]
     },
     "execution_count": 14,
     "metadata": {},
     "output_type": "execute_result"
    }
   ],
   "source": [
    "df.dtypes"
   ]
  },
  {
   "cell_type": "code",
   "execution_count": 15,
   "metadata": {},
   "outputs": [
    {
     "name": "stdout",
     "output_type": "stream",
     "text": [
      "(516, 7)\n",
      "Occupation     object\n",
      "Category       object\n",
      "All_workers     int64\n",
      "M_workers       int64\n",
      "M_weekly       object\n",
      "F_workers       int64\n",
      "F_weekly       object\n",
      "dtype: object\n",
      "       All_workers    M_workers    F_workers\n",
      "count   516.000000   516.000000   516.000000\n",
      "mean    209.598837   116.525194    93.040698\n",
      "std     386.182929   232.742854   231.134971\n",
      "min       0.000000     0.000000     0.000000\n",
      "25%      20.000000    11.000000     2.000000\n",
      "50%      63.500000    32.000000    16.000000\n",
      "75%     203.500000   104.250000    71.000000\n",
      "max    2806.000000  2582.000000  2262.000000\n",
      "PRODUCTION                 81\n",
      "OFFICE                     62\n",
      "CONSTRUCTION               40\n",
      "MAINTENANCE                37\n",
      "TRANSPORTATION             36\n",
      "HEALTHCARE PROFESSIONAL    33\n",
      "BUSINESS                   23\n",
      "SCIENCE                    23\n",
      "ENGINEERING                21\n",
      "SERVICE                    20\n",
      "ARTS                       19\n",
      "SALES                      18\n",
      "PROTECTIVE SERVICE         18\n",
      "COMPUTATIONAL              16\n",
      "MANAGEMENT                 15\n",
      "CULINARY                   13\n",
      "HEALTHCARE SUPPORT         11\n",
      "EDUCATION                  11\n",
      "SOCIAL SERVICE              8\n",
      "GROUNDSKEEPING              6\n",
      "LEGAL                       5\n",
      "Name: Category, dtype: int64\n"
     ]
    },
    {
     "data": {
      "text/html": [
       "<div>\n",
       "<style scoped>\n",
       "    .dataframe tbody tr th:only-of-type {\n",
       "        vertical-align: middle;\n",
       "    }\n",
       "\n",
       "    .dataframe tbody tr th {\n",
       "        vertical-align: top;\n",
       "    }\n",
       "\n",
       "    .dataframe thead th {\n",
       "        text-align: right;\n",
       "    }\n",
       "</style>\n",
       "<table border=\"1\" class=\"dataframe\">\n",
       "  <thead>\n",
       "    <tr style=\"text-align: right;\">\n",
       "      <th></th>\n",
       "      <th>All_workers</th>\n",
       "      <th>M_workers</th>\n",
       "      <th>F_workers</th>\n",
       "    </tr>\n",
       "  </thead>\n",
       "  <tbody>\n",
       "    <tr>\n",
       "      <th>All_workers</th>\n",
       "      <td>1.000000</td>\n",
       "      <td>0.833689</td>\n",
       "      <td>0.831163</td>\n",
       "    </tr>\n",
       "    <tr>\n",
       "      <th>M_workers</th>\n",
       "      <td>0.833689</td>\n",
       "      <td>1.000000</td>\n",
       "      <td>0.385875</td>\n",
       "    </tr>\n",
       "    <tr>\n",
       "      <th>F_workers</th>\n",
       "      <td>0.831163</td>\n",
       "      <td>0.385875</td>\n",
       "      <td>1.000000</td>\n",
       "    </tr>\n",
       "  </tbody>\n",
       "</table>\n",
       "</div>"
      ],
      "text/plain": [
       "             All_workers  M_workers  F_workers\n",
       "All_workers     1.000000   0.833689   0.831163\n",
       "M_workers       0.833689   1.000000   0.385875\n",
       "F_workers       0.831163   0.385875   1.000000"
      ]
     },
     "execution_count": 15,
     "metadata": {},
     "output_type": "execute_result"
    }
   ],
   "source": [
    "import pandas as pd\n",
    "import matplotlib.pyplot as plt\n",
    "import seaborn as sns\n",
    "\n",
    "gender_data = pd.read_csv('./gender.csv')\n",
    "\n",
    "print(gender_data.shape)\n",
    "\n",
    "print(gender_data.dtypes)\n",
    "\n",
    "print(gender_data.describe())\n",
    "\n",
    "print(gender_data.Category.value_counts())\n",
    "\n",
    "gender_data.corr()\n"
   ]
  },
  {
   "cell_type": "code",
   "execution_count": 16,
   "metadata": {},
   "outputs": [
    {
     "data": {
      "image/png": "[encoded data removed]",
      "text/plain": [
       "<Figure size 300x200 with 1 Axes>"
      ]
     },
     "metadata": {
      "needs_background": "light"
     },
     "output_type": "display_data"
    }
   ],
   "source": [
    "plt.figure(1,dpi=50) \n",
    "plt.hist(gender_data['Category'])   \n",
    "plt.show()"
   ]
  },
  {
   "cell_type": "code",
   "execution_count": 17,
   "metadata": {},
   "outputs": [
    {
     "data": {
      "image/png": "[encoded data removed]",
      "text/plain": [
       "<Figure size 432x288 with 1 Axes>"
      ]
     },
     "metadata": {
      "needs_background": "light"
     },
     "output_type": "display_data"
    }
   ],
   "source": [
    "plt.plot(gender_data['All_workers'])\n",
    "plt.ylabel('some numbers')\n",
    "plt.show()"
   ]
  },
  {
   "cell_type": "code",
   "execution_count": 18,
   "metadata": {},
   "outputs": [
    {
     "ename": "TypeError",
     "evalue": "count() takes 1 positional argument but 4 were given",
     "output_type": "error",
     "traceback": [
      "\u001b[0;31m---------------------------------------------------------------------------\u001b[0m",
      "\u001b[0;31mTypeError\u001b[0m                                 Traceback (most recent call last)",
      "\u001b[0;32m<ipython-input-18-babcda6be45e>\u001b[0m in \u001b[0;36m<module>\u001b[0;34m\u001b[0m\n\u001b[0;32m----> 1\u001b[0;31m \u001b[0mdf\u001b[0m\u001b[0;34m.\u001b[0m\u001b[0mcount\u001b[0m\u001b[0;34m(\u001b[0m\u001b[0;36m1\u001b[0m\u001b[0;34m,\u001b[0m\u001b[0;36m2\u001b[0m\u001b[0;34m,\u001b[0m\u001b[0;36m3\u001b[0m\u001b[0;34m)\u001b[0m\u001b[0;34m\u001b[0m\u001b[0;34m\u001b[0m\u001b[0m\n\u001b[0m",
      "\u001b[0;31mTypeError\u001b[0m: count() takes 1 positional argument but 4 were given"
     ]
    }
   ],
   "source": [
    "df.count(1,2,3)"
   ]
  },
  {
   "cell_type": "code",
   "execution_count": 19,
   "metadata": {},
   "outputs": [
    {
     "data": {
      "text/plain": [
       "108153"
      ]
     },
     "execution_count": 19,
     "metadata": {},
     "output_type": "execute_result"
    }
   ],
   "source": [
    "gender_data['All_workers'].sum()"
   ]
  },
  {
   "cell_type": "code",
   "execution_count": 20,
   "metadata": {},
   "outputs": [
    {
     "data": {
      "text/plain": [
       "60127"
      ]
     },
     "execution_count": 20,
     "metadata": {},
     "output_type": "execute_result"
    }
   ],
   "source": [
    "gender_data['M_workers'].sum()"
   ]
  },
  {
   "cell_type": "code",
   "execution_count": 21,
   "metadata": {},
   "outputs": [
    {
     "data": {
      "text/plain": [
       "48009"
      ]
     },
     "execution_count": 21,
     "metadata": {},
     "output_type": "execute_result"
    }
   ],
   "source": [
    "gender_data['F_workers'].sum()"
   ]
  },
  {
   "cell_type": "code",
   "execution_count": 22,
   "metadata": {},
   "outputs": [
    {
     "data": {
      "image/png": "[encoded data removed]",
      "text/plain": [
       "<Figure size 300x200 with 1 Axes>"
      ]
     },
     "metadata": {
      "needs_background": "light"
     },
     "output_type": "display_data"
    }
   ],
   "source": [
    "plt.figure(1,dpi=50)\n",
    "gender_data.sort_values(by=['M_weekly'])\n",
    "plt.plot(gender_data['M_weekly'])\n",
    "plt.show()"
   ]
  },
  {
   "cell_type": "code",
   "execution_count": 23,
   "metadata": {},
   "outputs": [
    {
     "data": {
      "image/png": "[encoded data removed]",
      "text/plain": [
       "<Figure size 300x200 with 1 Axes>"
      ]
     },
     "metadata": {
      "needs_background": "light"
     },
     "output_type": "display_data"
    }
   ],
   "source": [
    "plt.figure(1,dpi=50)\n",
    "gender_data.sort_values(by=['F_weekly'])\n",
    "plt.plot(gender_data['F_weekly'])\n",
    "plt.show()"
   ]
  },
  {
   "cell_type": "code",
   "execution_count": 24,
   "metadata": {},
   "outputs": [
    {
     "name": "stdout",
     "output_type": "stream",
     "text": [
      "Occupation     516\n",
      "Category       516\n",
      "All_workers    516\n",
      "M_workers      516\n",
      "M_weekly       516\n",
      "F_workers      516\n",
      "F_weekly       516\n",
      "dtype: int64\n",
      "Occupation     516\n",
      "Category       516\n",
      "All_workers    516\n",
      "M_workers      516\n",
      "M_weekly       516\n",
      "F_workers      516\n",
      "F_weekly       516\n",
      "dtype: int64\n",
      "Occupation     516\n",
      "Category       516\n",
      "All_workers    516\n",
      "M_workers      516\n",
      "M_weekly       516\n",
      "F_workers      516\n",
      "F_weekly       516\n",
      "dtype: int64\n",
      "Occupation     516\n",
      "Category       516\n",
      "All_workers    516\n",
      "M_workers      516\n",
      "M_weekly       516\n",
      "F_workers      516\n",
      "F_weekly       516\n",
      "dtype: int64\n",
      "Occupation     516\n",
      "Category       516\n",
      "All_workers    516\n",
      "M_workers      516\n",
      "M_weekly       516\n",
      "F_workers      516\n",
      "F_weekly       516\n",
      "dtype: int64\n",
      "Occupation     204\n",
      "Category       204\n",
      "All_workers    204\n",
      "M_workers      204\n",
      "M_weekly       204\n",
      "F_workers      204\n",
      "F_weekly       204\n",
      "dtype: int64\n",
      "Occupation     167\n",
      "Category       167\n",
      "All_workers    167\n",
      "M_workers      167\n",
      "M_weekly       167\n",
      "F_workers      167\n",
      "F_weekly       167\n",
      "dtype: int64\n"
     ]
    },
    {
     "name": "stderr",
     "output_type": "stream",
     "text": [
      "/opt/anaconda3/lib/python3.7/site-packages/pandas/core/ops/array_ops.py:253: FutureWarning: elementwise comparison failed; returning scalar instead, but in the future will perform elementwise comparison\n",
      "  res_values = method(rvalues)\n"
     ]
    }
   ],
   "source": [
    "print(gender_data.loc[gender_data['Occupation'] != 'Na'].count())\n",
    "print(gender_data.loc[gender_data['Category'] != 'Na'].count())\n",
    "print(gender_data.loc[gender_data['All_workers'] != 'Na'].count())\n",
    "print(gender_data.loc[gender_data['M_workers'] != 'Na'].count())\n",
    "print(gender_data.loc[gender_data['F_workers'] != 'Na'].count())\n",
    "print(gender_data.loc[gender_data['M_weekly'] != 'Na'].count())\n",
    "print(gender_data.loc[gender_data['F_weekly'] != 'Na'].count())"
   ]
  },
  {
   "cell_type": "code",
   "execution_count": 25,
   "metadata": {},
   "outputs": [
    {
     "name": "stdout",
     "output_type": "stream",
     "text": [
      "                                            Occupation        Category  \\\n",
      "0                                     Chief executives      MANAGEMENT   \n",
      "1                      General and operations managers      MANAGEMENT   \n",
      "2                         Marketing and sales managers      MANAGEMENT   \n",
      "3                     Administrative services managers      MANAGEMENT   \n",
      "4            Computer and information systems managers      MANAGEMENT   \n",
      "..                                                 ...             ...   \n",
      "479                      Production workers, all other      PRODUCTION   \n",
      "485                                        Bus drivers  TRANSPORTATION   \n",
      "486             Driver/sales workers and truck drivers  TRANSPORTATION   \n",
      "508  Laborers and freight, stock, and material move...  TRANSPORTATION   \n",
      "510                        Packers and packagers, hand  TRANSPORTATION   \n",
      "\n",
      "     All_workers  M_workers M_weekly  F_workers F_weekly  \n",
      "0           1046        763     2251        283     1836  \n",
      "1            823        621     1347        202     1002  \n",
      "2            948        570     1603        378     1258  \n",
      "3            170         96     1451         73      981  \n",
      "4            636        466     1817        169     1563  \n",
      "..           ...        ...      ...        ...      ...  \n",
      "479          846        643      666        203      501  \n",
      "485          323        184      681        138      572  \n",
      "486         2687       2582      751        105      632  \n",
      "508         1433       1214      547        219      455  \n",
      "510          385        158      462        227      424  \n",
      "\n",
      "[119 rows x 7 columns]\n"
     ]
    }
   ],
   "source": [
    "newIncome = gender_data.loc[(gender_data['F_weekly']  != 'Na') & (gender_data['M_weekly'] != 'Na')]\n",
    "print(newIncome)"
   ]
  },
  {
   "cell_type": "code",
   "execution_count": 26,
   "metadata": {},
   "outputs": [
    {
     "name": "stdout",
     "output_type": "stream",
     "text": [
      "                                    Occupation        Category  All_workers  \\\n",
      "0                             Chief executives      MANAGEMENT         1046   \n",
      "1              General and operations managers      MANAGEMENT          823   \n",
      "2                 Marketing and sales managers      MANAGEMENT          948   \n",
      "3             Administrative services managers      MANAGEMENT          170   \n",
      "4    Computer and information systems managers      MANAGEMENT          636   \n",
      "..                                         ...             ...          ...   \n",
      "511                  Pumping station operators  TRANSPORTATION           18   \n",
      "512  Refuse and recyclable material collectors  TRANSPORTATION           72   \n",
      "513                 Mine shuttle car operators  TRANSPORTATION            0   \n",
      "514          Tank car, truck, and ship loaders  TRANSPORTATION            6   \n",
      "515         Material moving workers, all other  TRANSPORTATION           37   \n",
      "\n",
      "     M_workers  F_workers  \n",
      "0          763        283  \n",
      "1          621        202  \n",
      "2          570        378  \n",
      "3           96         73  \n",
      "4          466        169  \n",
      "..         ...        ...  \n",
      "511         17          1  \n",
      "512         66          6  \n",
      "513          0          0  \n",
      "514          6          0  \n",
      "515         32          5  \n",
      "\n",
      "[516 rows x 5 columns]\n",
      "                                            Occupation        Category  \\\n",
      "0                                     Chief executives      MANAGEMENT   \n",
      "1                      General and operations managers      MANAGEMENT   \n",
      "2                         Marketing and sales managers      MANAGEMENT   \n",
      "3                     Administrative services managers      MANAGEMENT   \n",
      "4            Computer and information systems managers      MANAGEMENT   \n",
      "..                                                 ...             ...   \n",
      "479                      Production workers, all other      PRODUCTION   \n",
      "485                                        Bus drivers  TRANSPORTATION   \n",
      "486             Driver/sales workers and truck drivers  TRANSPORTATION   \n",
      "508  Laborers and freight, stock, and material move...  TRANSPORTATION   \n",
      "510                        Packers and packagers, hand  TRANSPORTATION   \n",
      "\n",
      "    M_weekly F_weekly  \n",
      "0       2251     1836  \n",
      "1       1347     1002  \n",
      "2       1603     1258  \n",
      "3       1451      981  \n",
      "4       1817     1563  \n",
      "..       ...      ...  \n",
      "479      666      501  \n",
      "485      681      572  \n",
      "486      751      632  \n",
      "508      547      455  \n",
      "510      462      424  \n",
      "\n",
      "[119 rows x 4 columns]\n"
     ]
    }
   ],
   "source": [
    "newIncome = gender_data.loc[(gender_data['F_weekly']  != 'Na') & (gender_data['M_weekly'] != 'Na')]\n",
    "del gender_data['F_weekly']\n",
    "del gender_data['M_weekly']\n",
    "del newIncome['M_workers']\n",
    "del newIncome['F_workers']\n",
    "del newIncome['All_workers']\n",
    "\n",
    "print(gender_data)\n",
    "print(newIncome)"
   ]
  },
  {
   "cell_type": "code",
   "execution_count": 27,
   "metadata": {},
   "outputs": [
    {
     "name": "stdout",
     "output_type": "stream",
     "text": [
      "                                            Occupation        Category  \\\n",
      "0                                     Chief executives      MANAGEMENT   \n",
      "1                      General and operations managers      MANAGEMENT   \n",
      "2                         Marketing and sales managers      MANAGEMENT   \n",
      "3                     Administrative services managers      MANAGEMENT   \n",
      "4            Computer and information systems managers      MANAGEMENT   \n",
      "..                                                 ...             ...   \n",
      "479                      Production workers, all other      PRODUCTION   \n",
      "485                                        Bus drivers  TRANSPORTATION   \n",
      "486             Driver/sales workers and truck drivers  TRANSPORTATION   \n",
      "508  Laborers and freight, stock, and material move...  TRANSPORTATION   \n",
      "510                        Packers and packagers, hand  TRANSPORTATION   \n",
      "\n",
      "     M_weekly  F_weekly  \n",
      "0        2251      1836  \n",
      "1        1347      1002  \n",
      "2        1603      1258  \n",
      "3        1451       981  \n",
      "4        1817      1563  \n",
      "..        ...       ...  \n",
      "479       666       501  \n",
      "485       681       572  \n",
      "486       751       632  \n",
      "508       547       455  \n",
      "510       462       424  \n",
      "\n",
      "[119 rows x 4 columns]\n",
      "                                    Occupation        Category  All_workers  \\\n",
      "0                             Chief executives      MANAGEMENT         1046   \n",
      "1              General and operations managers      MANAGEMENT          823   \n",
      "2                 Marketing and sales managers      MANAGEMENT          948   \n",
      "3             Administrative services managers      MANAGEMENT          170   \n",
      "4    Computer and information systems managers      MANAGEMENT          636   \n",
      "..                                         ...             ...          ...   \n",
      "511                  Pumping station operators  TRANSPORTATION           18   \n",
      "512  Refuse and recyclable material collectors  TRANSPORTATION           72   \n",
      "513                 Mine shuttle car operators  TRANSPORTATION            0   \n",
      "514          Tank car, truck, and ship loaders  TRANSPORTATION            6   \n",
      "515         Material moving workers, all other  TRANSPORTATION           37   \n",
      "\n",
      "     M_workers  F_workers  \n",
      "0          763        283  \n",
      "1          621        202  \n",
      "2          570        378  \n",
      "3           96         73  \n",
      "4          466        169  \n",
      "..         ...        ...  \n",
      "511         17          1  \n",
      "512         66          6  \n",
      "513          0          0  \n",
      "514          6          0  \n",
      "515         32          5  \n",
      "\n",
      "[516 rows x 5 columns]\n"
     ]
    },
    {
     "name": "stderr",
     "output_type": "stream",
     "text": [
      "/opt/anaconda3/lib/python3.7/site-packages/ipykernel_launcher.py:7: SettingWithCopyWarning: \n",
      "A value is trying to be set on a copy of a slice from a DataFrame.\n",
      "Try using .loc[row_indexer,col_indexer] = value instead\n",
      "\n",
      "See the caveats in the documentation: https://pandas.pydata.org/pandas-docs/stable/user_guide/indexing.html#returning-a-view-versus-a-copy\n",
      "  import sys\n",
      "/opt/anaconda3/lib/python3.7/site-packages/ipykernel_launcher.py:8: SettingWithCopyWarning: \n",
      "A value is trying to be set on a copy of a slice from a DataFrame.\n",
      "Try using .loc[row_indexer,col_indexer] = value instead\n",
      "\n",
      "See the caveats in the documentation: https://pandas.pydata.org/pandas-docs/stable/user_guide/indexing.html#returning-a-view-versus-a-copy\n",
      "  \n"
     ]
    }
   ],
   "source": [
    "gender_data = pd.read_csv('./gender.csv')\n",
    "gender_data['F_workers'] = pd.to_numeric(gender_data['F_workers'])\n",
    "gender_data['M_workers'] = pd.to_numeric(gender_data['M_workers'])\n",
    "gender_data['All_workers'] = pd.to_numeric(gender_data['All_workers'])\n",
    "\n",
    "newIncome = gender_data.loc[(gender_data['F_weekly']  != 'Na') & (gender_data['M_weekly'] != 'Na')]\n",
    "newIncome['F_weekly'] = pd.to_numeric(newIncome['F_weekly'])\n",
    "newIncome['M_weekly'] = pd.to_numeric(newIncome['M_weekly'])\n",
    "del gender_data['F_weekly']\n",
    "del gender_data['M_weekly']\n",
    "del newIncome['M_workers']\n",
    "del newIncome['F_workers']\n",
    "del newIncome['All_workers']\n",
    "print(newIncome)\n",
    "print(gender_data)"
   ]
  },
  {
   "cell_type": "code",
   "execution_count": 28,
   "metadata": {},
   "outputs": [
    {
     "name": "stdout",
     "output_type": "stream",
     "text": [
      "                                            Occupation        Category  \\\n",
      "0                                     Chief executives      MANAGEMENT   \n",
      "1                      General and operations managers      MANAGEMENT   \n",
      "2                         Marketing and sales managers      MANAGEMENT   \n",
      "3                     Administrative services managers      MANAGEMENT   \n",
      "4            Computer and information systems managers      MANAGEMENT   \n",
      "..                                                 ...             ...   \n",
      "479                      Production workers, all other      PRODUCTION   \n",
      "485                                        Bus drivers  TRANSPORTATION   \n",
      "486             Driver/sales workers and truck drivers  TRANSPORTATION   \n",
      "508  Laborers and freight, stock, and material move...  TRANSPORTATION   \n",
      "510                        Packers and packagers, hand  TRANSPORTATION   \n",
      "\n",
      "     M_weekly  F_weekly  is_male_high_income  is_female_high_income  \n",
      "0        2251      1836                 True                   True  \n",
      "1        1347      1002                 True                   True  \n",
      "2        1603      1258                 True                   True  \n",
      "3        1451       981                 True                  False  \n",
      "4        1817      1563                 True                   True  \n",
      "..        ...       ...                  ...                    ...  \n",
      "479       666       501                False                  False  \n",
      "485       681       572                False                  False  \n",
      "486       751       632                False                  False  \n",
      "508       547       455                False                  False  \n",
      "510       462       424                False                  False  \n",
      "\n",
      "[119 rows x 6 columns]\n",
      "                                    Occupation        Category  M_workers  \\\n",
      "0                             Chief executives      MANAGEMENT        763   \n",
      "1              General and operations managers      MANAGEMENT        621   \n",
      "2                 Marketing and sales managers      MANAGEMENT        570   \n",
      "3             Administrative services managers      MANAGEMENT         96   \n",
      "4    Computer and information systems managers      MANAGEMENT        466   \n",
      "..                                         ...             ...        ...   \n",
      "511                  Pumping station operators  TRANSPORTATION         17   \n",
      "512  Refuse and recyclable material collectors  TRANSPORTATION         66   \n",
      "513                 Mine shuttle car operators  TRANSPORTATION          0   \n",
      "514          Tank car, truck, and ship loaders  TRANSPORTATION          6   \n",
      "515         Material moving workers, all other  TRANSPORTATION         32   \n",
      "\n",
      "     F_workers  \n",
      "0          283  \n",
      "1          202  \n",
      "2          378  \n",
      "3           73  \n",
      "4          169  \n",
      "..         ...  \n",
      "511          1  \n",
      "512          6  \n",
      "513          0  \n",
      "514          0  \n",
      "515          5  \n",
      "\n",
      "[516 rows x 4 columns]\n"
     ]
    },
    {
     "name": "stderr",
     "output_type": "stream",
     "text": [
      "/opt/anaconda3/lib/python3.7/site-packages/ipykernel_launcher.py:7: SettingWithCopyWarning: \n",
      "A value is trying to be set on a copy of a slice from a DataFrame.\n",
      "Try using .loc[row_indexer,col_indexer] = value instead\n",
      "\n",
      "See the caveats in the documentation: https://pandas.pydata.org/pandas-docs/stable/user_guide/indexing.html#returning-a-view-versus-a-copy\n",
      "  import sys\n",
      "/opt/anaconda3/lib/python3.7/site-packages/ipykernel_launcher.py:8: SettingWithCopyWarning: \n",
      "A value is trying to be set on a copy of a slice from a DataFrame.\n",
      "Try using .loc[row_indexer,col_indexer] = value instead\n",
      "\n",
      "See the caveats in the documentation: https://pandas.pydata.org/pandas-docs/stable/user_guide/indexing.html#returning-a-view-versus-a-copy\n",
      "  \n",
      "/opt/anaconda3/lib/python3.7/site-packages/ipykernel_launcher.py:9: SettingWithCopyWarning: \n",
      "A value is trying to be set on a copy of a slice from a DataFrame.\n",
      "Try using .loc[row_indexer,col_indexer] = value instead\n",
      "\n",
      "See the caveats in the documentation: https://pandas.pydata.org/pandas-docs/stable/user_guide/indexing.html#returning-a-view-versus-a-copy\n",
      "  if __name__ == '__main__':\n",
      "/opt/anaconda3/lib/python3.7/site-packages/ipykernel_launcher.py:10: SettingWithCopyWarning: \n",
      "A value is trying to be set on a copy of a slice from a DataFrame.\n",
      "Try using .loc[row_indexer,col_indexer] = value instead\n",
      "\n",
      "See the caveats in the documentation: https://pandas.pydata.org/pandas-docs/stable/user_guide/indexing.html#returning-a-view-versus-a-copy\n",
      "  # Remove the CWD from sys.path while we load stuff.\n"
     ]
    }
   ],
   "source": [
    "gender_data = pd.read_csv('./gender.csv')\n",
    "del gender_data['All_workers']\n",
    "gender_data['F_workers'] = pd.to_numeric(gender_data['F_workers'])\n",
    "gender_data['M_workers'] = pd.to_numeric(gender_data['M_workers'])\n",
    "\n",
    "newIncome = gender_data.loc[(gender_data['F_weekly']  != 'Na') & (gender_data['M_weekly'] != 'Na')]\n",
    "newIncome['F_weekly'] = pd.to_numeric(newIncome['F_weekly'])\n",
    "newIncome['M_weekly'] = pd.to_numeric(newIncome['M_weekly'])\n",
    "newIncome['is_male_high_income'] = newIncome['M_weekly'] > 1000\n",
    "newIncome['is_female_high_income'] = newIncome['F_weekly'] > 1000\n",
    "del gender_data['F_weekly']\n",
    "del gender_data['M_weekly']\n",
    "del newIncome['M_workers']\n",
    "del newIncome['F_workers']\n",
    "print(newIncome)\n",
    "print(gender_data)"
   ]
  },
  {
   "cell_type": "code",
   "execution_count": 29,
   "metadata": {},
   "outputs": [
    {
     "name": "stdout",
     "output_type": "stream",
     "text": [
      "                                    Occupation        Category  M_workers  \\\n",
      "0                             Chief executives      MANAGEMENT        763   \n",
      "1              General and operations managers      MANAGEMENT        621   \n",
      "2                 Marketing and sales managers      MANAGEMENT        570   \n",
      "3             Administrative services managers      MANAGEMENT         96   \n",
      "4    Computer and information systems managers      MANAGEMENT        466   \n",
      "..                                         ...             ...        ...   \n",
      "511                  Pumping station operators  TRANSPORTATION         17   \n",
      "512  Refuse and recyclable material collectors  TRANSPORTATION         66   \n",
      "513                 Mine shuttle car operators  TRANSPORTATION          0   \n",
      "514          Tank car, truck, and ship loaders  TRANSPORTATION          6   \n",
      "515         Material moving workers, all other  TRANSPORTATION         32   \n",
      "\n",
      "     F_workers  \n",
      "0          283  \n",
      "1          202  \n",
      "2          378  \n",
      "3           73  \n",
      "4          169  \n",
      "..         ...  \n",
      "511          1  \n",
      "512          6  \n",
      "513          0  \n",
      "514          0  \n",
      "515          5  \n",
      "\n",
      "[516 rows x 4 columns]\n"
     ]
    }
   ],
   "source": [
    "print(gender_data)"
   ]
  },
  {
   "cell_type": "code",
   "execution_count": 51,
   "metadata": {},
   "outputs": [
    {
     "ename": "IllegalArgumentException",
     "evalue": "'Field \"features\" does not exist.\\nAvailable fields: Occupation, Category, M_weekly, F_weekly, is_male_high_income, is_female_high_income'",
     "output_type": "error",
     "traceback": [
      "\u001b[0;31m---------------------------------------------------------------------------\u001b[0m",
      "\u001b[0;31mPy4JJavaError\u001b[0m                             Traceback (most recent call last)",
      "\u001b[0;32m/opt/anaconda3/lib/python3.7/site-packages/pyspark/sql/utils.py\u001b[0m in \u001b[0;36mdeco\u001b[0;34m(*a, **kw)\u001b[0m\n\u001b[1;32m     62\u001b[0m         \u001b[0;32mtry\u001b[0m\u001b[0;34m:\u001b[0m\u001b[0;34m\u001b[0m\u001b[0;34m\u001b[0m\u001b[0m\n\u001b[0;32m---> 63\u001b[0;31m             \u001b[0;32mreturn\u001b[0m \u001b[0mf\u001b[0m\u001b[0;34m(\u001b[0m\u001b[0;34m*\u001b[0m\u001b[0ma\u001b[0m\u001b[0;34m,\u001b[0m \u001b[0;34m**\u001b[0m\u001b[0mkw\u001b[0m\u001b[0;34m)\u001b[0m\u001b[0;34m\u001b[0m\u001b[0;34m\u001b[0m\u001b[0m\n\u001b[0m\u001b[1;32m     64\u001b[0m         \u001b[0;32mexcept\u001b[0m \u001b[0mpy4j\u001b[0m\u001b[0;34m.\u001b[0m\u001b[0mprotocol\u001b[0m\u001b[0;34m.\u001b[0m\u001b[0mPy4JJavaError\u001b[0m \u001b[0;32mas\u001b[0m \u001b[0me\u001b[0m\u001b[0;34m:\u001b[0m\u001b[0;34m\u001b[0m\u001b[0;34m\u001b[0m\u001b[0m\n",
      "\u001b[0;32m/opt/anaconda3/lib/python3.7/site-packages/py4j/protocol.py\u001b[0m in \u001b[0;36mget_return_value\u001b[0;34m(answer, gateway_client, target_id, name)\u001b[0m\n\u001b[1;32m    327\u001b[0m                     \u001b[0;34m\"An error occurred while calling {0}{1}{2}.\\n\"\u001b[0m\u001b[0;34m.\u001b[0m\u001b[0;34m\u001b[0m\u001b[0;34m\u001b[0m\u001b[0m\n\u001b[0;32m--> 328\u001b[0;31m                     format(target_id, \".\", name), value)\n\u001b[0m\u001b[1;32m    329\u001b[0m             \u001b[0;32melse\u001b[0m\u001b[0;34m:\u001b[0m\u001b[0;34m\u001b[0m\u001b[0;34m\u001b[0m\u001b[0m\n",
      "\u001b[0;31mPy4JJavaError\u001b[0m: An error occurred while calling o1106.fit.\n: java.lang.IllegalArgumentException: Field \"features\" does not exist.\nAvailable fields: Occupation, Category, M_weekly, F_weekly, is_male_high_income, is_female_high_income\n\tat org.apache.spark.sql.types.StructType$$anonfun$apply$1.apply(StructType.scala:274)\n\tat org.apache.spark.sql.types.StructType$$anonfun$apply$1.apply(StructType.scala:274)\n\tat scala.collection.MapLike$class.getOrElse(MapLike.scala:128)\n\tat scala.collection.AbstractMap.getOrElse(Map.scala:59)\n\tat org.apache.spark.sql.types.StructType.apply(StructType.scala:273)\n\tat org.apache.spark.ml.util.SchemaUtils$.checkColumnType(SchemaUtils.scala:41)\n\tat org.apache.spark.ml.PredictorParams$class.validateAndTransformSchema(Predictor.scala:51)\n\tat org.apache.spark.ml.classification.Classifier.org$apache$spark$ml$classification$ClassifierParams$$super$validateAndTransformSchema(Classifier.scala:58)\n\tat org.apache.spark.ml.classification.ClassifierParams$class.validateAndTransformSchema(Classifier.scala:42)\n\tat org.apache.spark.ml.classification.ProbabilisticClassifier.org$apache$spark$ml$classification$ProbabilisticClassifierParams$$super$validateAndTransformSchema(ProbabilisticClassifier.scala:53)\n\tat org.apache.spark.ml.classification.ProbabilisticClassifierParams$class.validateAndTransformSchema(ProbabilisticClassifier.scala:37)\n\tat org.apache.spark.ml.classification.LogisticRegression.org$apache$spark$ml$classification$LogisticRegressionParams$$super$validateAndTransformSchema(LogisticRegression.scala:279)\n\tat org.apache.spark.ml.classification.LogisticRegressionParams$class.validateAndTransformSchema(LogisticRegression.scala:266)\n\tat org.apache.spark.ml.classification.LogisticRegression.validateAndTransformSchema(LogisticRegression.scala:279)\n\tat org.apache.spark.ml.Predictor.transformSchema(Predictor.scala:144)\n\tat org.apache.spark.ml.PipelineStage.transformSchema(Pipeline.scala:74)\n\tat org.apache.spark.ml.Predictor.fit(Predictor.scala:100)\n\tat sun.reflect.NativeMethodAccessorImpl.invoke0(Native Method)\n\tat sun.reflect.NativeMethodAccessorImpl.invoke(NativeMethodAccessorImpl.java:62)\n\tat sun.reflect.DelegatingMethodAccessorImpl.invoke(DelegatingMethodAccessorImpl.java:43)\n\tat java.lang.reflect.Method.invoke(Method.java:498)\n\tat py4j.reflection.MethodInvoker.invoke(MethodInvoker.java:244)\n\tat py4j.reflection.ReflectionEngine.invoke(ReflectionEngine.java:357)\n\tat py4j.Gateway.invoke(Gateway.java:282)\n\tat py4j.commands.AbstractCommand.invokeMethod(AbstractCommand.java:132)\n\tat py4j.commands.CallCommand.execute(CallCommand.java:79)\n\tat py4j.GatewayConnection.run(GatewayConnection.java:238)\n\tat java.lang.Thread.run(Thread.java:748)\n",
      "\nDuring handling of the above exception, another exception occurred:\n",
      "\u001b[0;31mIllegalArgumentException\u001b[0m                  Traceback (most recent call last)",
      "\u001b[0;32m<ipython-input-51-ffec1f737328>\u001b[0m in \u001b[0;36m<module>\u001b[0;34m\u001b[0m\n\u001b[1;32m      3\u001b[0m \u001b[0mnewIncomeSpark\u001b[0m \u001b[0;34m=\u001b[0m \u001b[0mspark\u001b[0m\u001b[0;34m.\u001b[0m\u001b[0mcreateDataFrame\u001b[0m\u001b[0;34m(\u001b[0m\u001b[0mnewIncome\u001b[0m\u001b[0;34m)\u001b[0m\u001b[0;34m\u001b[0m\u001b[0;34m\u001b[0m\u001b[0m\n\u001b[1;32m      4\u001b[0m \u001b[0mlr\u001b[0m \u001b[0;34m=\u001b[0m \u001b[0mLogisticRegression\u001b[0m\u001b[0;34m(\u001b[0m\u001b[0mmaxIter\u001b[0m\u001b[0;34m=\u001b[0m\u001b[0;36m10\u001b[0m\u001b[0;34m,\u001b[0m \u001b[0mregParam\u001b[0m\u001b[0;34m=\u001b[0m\u001b[0;36m0.3\u001b[0m\u001b[0;34m,\u001b[0m \u001b[0melasticNetParam\u001b[0m\u001b[0;34m=\u001b[0m\u001b[0;36m0.8\u001b[0m\u001b[0;34m)\u001b[0m\u001b[0;34m\u001b[0m\u001b[0;34m\u001b[0m\u001b[0m\n\u001b[0;32m----> 5\u001b[0;31m \u001b[0mlrModel\u001b[0m \u001b[0;34m=\u001b[0m \u001b[0mlr\u001b[0m\u001b[0;34m.\u001b[0m\u001b[0mfit\u001b[0m\u001b[0;34m(\u001b[0m\u001b[0mnewIncomeSpark\u001b[0m\u001b[0;34m)\u001b[0m\u001b[0;34m\u001b[0m\u001b[0;34m\u001b[0m\u001b[0m\n\u001b[0m\u001b[1;32m      6\u001b[0m \u001b[0;34m\u001b[0m\u001b[0m\n\u001b[1;32m      7\u001b[0m \u001b[0;31m# # Print the coefficients and intercept for logistic regression\u001b[0m\u001b[0;34m\u001b[0m\u001b[0;34m\u001b[0m\u001b[0;34m\u001b[0m\u001b[0m\n",
      "\u001b[0;32m/opt/anaconda3/lib/python3.7/site-packages/pyspark/ml/base.py\u001b[0m in \u001b[0;36mfit\u001b[0;34m(self, dataset, params)\u001b[0m\n\u001b[1;32m    130\u001b[0m                 \u001b[0;32mreturn\u001b[0m \u001b[0mself\u001b[0m\u001b[0;34m.\u001b[0m\u001b[0mcopy\u001b[0m\u001b[0;34m(\u001b[0m\u001b[0mparams\u001b[0m\u001b[0;34m)\u001b[0m\u001b[0;34m.\u001b[0m\u001b[0m_fit\u001b[0m\u001b[0;34m(\u001b[0m\u001b[0mdataset\u001b[0m\u001b[0;34m)\u001b[0m\u001b[0;34m\u001b[0m\u001b[0;34m\u001b[0m\u001b[0m\n\u001b[1;32m    131\u001b[0m             \u001b[0;32melse\u001b[0m\u001b[0;34m:\u001b[0m\u001b[0;34m\u001b[0m\u001b[0;34m\u001b[0m\u001b[0m\n\u001b[0;32m--> 132\u001b[0;31m                 \u001b[0;32mreturn\u001b[0m \u001b[0mself\u001b[0m\u001b[0;34m.\u001b[0m\u001b[0m_fit\u001b[0m\u001b[0;34m(\u001b[0m\u001b[0mdataset\u001b[0m\u001b[0;34m)\u001b[0m\u001b[0;34m\u001b[0m\u001b[0;34m\u001b[0m\u001b[0m\n\u001b[0m\u001b[1;32m    133\u001b[0m         \u001b[0;32melse\u001b[0m\u001b[0;34m:\u001b[0m\u001b[0;34m\u001b[0m\u001b[0;34m\u001b[0m\u001b[0m\n\u001b[1;32m    134\u001b[0m             raise ValueError(\"Params must be either a param map or a list/tuple of param maps, \"\n",
      "\u001b[0;32m/opt/anaconda3/lib/python3.7/site-packages/pyspark/ml/wrapper.py\u001b[0m in \u001b[0;36m_fit\u001b[0;34m(self, dataset)\u001b[0m\n\u001b[1;32m    293\u001b[0m \u001b[0;34m\u001b[0m\u001b[0m\n\u001b[1;32m    294\u001b[0m     \u001b[0;32mdef\u001b[0m \u001b[0m_fit\u001b[0m\u001b[0;34m(\u001b[0m\u001b[0mself\u001b[0m\u001b[0;34m,\u001b[0m \u001b[0mdataset\u001b[0m\u001b[0;34m)\u001b[0m\u001b[0;34m:\u001b[0m\u001b[0;34m\u001b[0m\u001b[0;34m\u001b[0m\u001b[0m\n\u001b[0;32m--> 295\u001b[0;31m         \u001b[0mjava_model\u001b[0m \u001b[0;34m=\u001b[0m \u001b[0mself\u001b[0m\u001b[0;34m.\u001b[0m\u001b[0m_fit_java\u001b[0m\u001b[0;34m(\u001b[0m\u001b[0mdataset\u001b[0m\u001b[0;34m)\u001b[0m\u001b[0;34m\u001b[0m\u001b[0;34m\u001b[0m\u001b[0m\n\u001b[0m\u001b[1;32m    296\u001b[0m         \u001b[0mmodel\u001b[0m \u001b[0;34m=\u001b[0m \u001b[0mself\u001b[0m\u001b[0;34m.\u001b[0m\u001b[0m_create_model\u001b[0m\u001b[0;34m(\u001b[0m\u001b[0mjava_model\u001b[0m\u001b[0;34m)\u001b[0m\u001b[0;34m\u001b[0m\u001b[0;34m\u001b[0m\u001b[0m\n\u001b[1;32m    297\u001b[0m         \u001b[0;32mreturn\u001b[0m \u001b[0mself\u001b[0m\u001b[0;34m.\u001b[0m\u001b[0m_copyValues\u001b[0m\u001b[0;34m(\u001b[0m\u001b[0mmodel\u001b[0m\u001b[0;34m)\u001b[0m\u001b[0;34m\u001b[0m\u001b[0;34m\u001b[0m\u001b[0m\n",
      "\u001b[0;32m/opt/anaconda3/lib/python3.7/site-packages/pyspark/ml/wrapper.py\u001b[0m in \u001b[0;36m_fit_java\u001b[0;34m(self, dataset)\u001b[0m\n\u001b[1;32m    290\u001b[0m         \"\"\"\n\u001b[1;32m    291\u001b[0m         \u001b[0mself\u001b[0m\u001b[0;34m.\u001b[0m\u001b[0m_transfer_params_to_java\u001b[0m\u001b[0;34m(\u001b[0m\u001b[0;34m)\u001b[0m\u001b[0;34m\u001b[0m\u001b[0;34m\u001b[0m\u001b[0m\n\u001b[0;32m--> 292\u001b[0;31m         \u001b[0;32mreturn\u001b[0m \u001b[0mself\u001b[0m\u001b[0;34m.\u001b[0m\u001b[0m_java_obj\u001b[0m\u001b[0;34m.\u001b[0m\u001b[0mfit\u001b[0m\u001b[0;34m(\u001b[0m\u001b[0mdataset\u001b[0m\u001b[0;34m.\u001b[0m\u001b[0m_jdf\u001b[0m\u001b[0;34m)\u001b[0m\u001b[0;34m\u001b[0m\u001b[0;34m\u001b[0m\u001b[0m\n\u001b[0m\u001b[1;32m    293\u001b[0m \u001b[0;34m\u001b[0m\u001b[0m\n\u001b[1;32m    294\u001b[0m     \u001b[0;32mdef\u001b[0m \u001b[0m_fit\u001b[0m\u001b[0;34m(\u001b[0m\u001b[0mself\u001b[0m\u001b[0;34m,\u001b[0m \u001b[0mdataset\u001b[0m\u001b[0;34m)\u001b[0m\u001b[0;34m:\u001b[0m\u001b[0;34m\u001b[0m\u001b[0;34m\u001b[0m\u001b[0m\n",
      "\u001b[0;32m/opt/anaconda3/lib/python3.7/site-packages/py4j/java_gateway.py\u001b[0m in \u001b[0;36m__call__\u001b[0;34m(self, *args)\u001b[0m\n\u001b[1;32m   1255\u001b[0m         \u001b[0manswer\u001b[0m \u001b[0;34m=\u001b[0m \u001b[0mself\u001b[0m\u001b[0;34m.\u001b[0m\u001b[0mgateway_client\u001b[0m\u001b[0;34m.\u001b[0m\u001b[0msend_command\u001b[0m\u001b[0;34m(\u001b[0m\u001b[0mcommand\u001b[0m\u001b[0;34m)\u001b[0m\u001b[0;34m\u001b[0m\u001b[0;34m\u001b[0m\u001b[0m\n\u001b[1;32m   1256\u001b[0m         return_value = get_return_value(\n\u001b[0;32m-> 1257\u001b[0;31m             answer, self.gateway_client, self.target_id, self.name)\n\u001b[0m\u001b[1;32m   1258\u001b[0m \u001b[0;34m\u001b[0m\u001b[0m\n\u001b[1;32m   1259\u001b[0m         \u001b[0;32mfor\u001b[0m \u001b[0mtemp_arg\u001b[0m \u001b[0;32min\u001b[0m \u001b[0mtemp_args\u001b[0m\u001b[0;34m:\u001b[0m\u001b[0;34m\u001b[0m\u001b[0;34m\u001b[0m\u001b[0m\n",
      "\u001b[0;32m/opt/anaconda3/lib/python3.7/site-packages/pyspark/sql/utils.py\u001b[0m in \u001b[0;36mdeco\u001b[0;34m(*a, **kw)\u001b[0m\n\u001b[1;32m     77\u001b[0m                 \u001b[0;32mraise\u001b[0m \u001b[0mQueryExecutionException\u001b[0m\u001b[0;34m(\u001b[0m\u001b[0ms\u001b[0m\u001b[0;34m.\u001b[0m\u001b[0msplit\u001b[0m\u001b[0;34m(\u001b[0m\u001b[0;34m': '\u001b[0m\u001b[0;34m,\u001b[0m \u001b[0;36m1\u001b[0m\u001b[0;34m)\u001b[0m\u001b[0;34m[\u001b[0m\u001b[0;36m1\u001b[0m\u001b[0;34m]\u001b[0m\u001b[0;34m,\u001b[0m \u001b[0mstackTrace\u001b[0m\u001b[0;34m)\u001b[0m\u001b[0;34m\u001b[0m\u001b[0;34m\u001b[0m\u001b[0m\n\u001b[1;32m     78\u001b[0m             \u001b[0;32mif\u001b[0m \u001b[0ms\u001b[0m\u001b[0;34m.\u001b[0m\u001b[0mstartswith\u001b[0m\u001b[0;34m(\u001b[0m\u001b[0;34m'java.lang.IllegalArgumentException: '\u001b[0m\u001b[0;34m)\u001b[0m\u001b[0;34m:\u001b[0m\u001b[0;34m\u001b[0m\u001b[0;34m\u001b[0m\u001b[0m\n\u001b[0;32m---> 79\u001b[0;31m                 \u001b[0;32mraise\u001b[0m \u001b[0mIllegalArgumentException\u001b[0m\u001b[0;34m(\u001b[0m\u001b[0ms\u001b[0m\u001b[0;34m.\u001b[0m\u001b[0msplit\u001b[0m\u001b[0;34m(\u001b[0m\u001b[0;34m': '\u001b[0m\u001b[0;34m,\u001b[0m \u001b[0;36m1\u001b[0m\u001b[0;34m)\u001b[0m\u001b[0;34m[\u001b[0m\u001b[0;36m1\u001b[0m\u001b[0;34m]\u001b[0m\u001b[0;34m,\u001b[0m \u001b[0mstackTrace\u001b[0m\u001b[0;34m)\u001b[0m\u001b[0;34m\u001b[0m\u001b[0;34m\u001b[0m\u001b[0m\n\u001b[0m\u001b[1;32m     80\u001b[0m             \u001b[0;32mraise\u001b[0m\u001b[0;34m\u001b[0m\u001b[0;34m\u001b[0m\u001b[0m\n\u001b[1;32m     81\u001b[0m     \u001b[0;32mreturn\u001b[0m \u001b[0mdeco\u001b[0m\u001b[0;34m\u001b[0m\u001b[0;34m\u001b[0m\u001b[0m\n",
      "\u001b[0;31mIllegalArgumentException\u001b[0m: 'Field \"features\" does not exist.\\nAvailable fields: Occupation, Category, M_weekly, F_weekly, is_male_high_income, is_female_high_income'"
     ]
    }
   ],
   "source": [
    "from pyspark.ml.classification import LogisticRegression\n",
    "from pyspark.ml.linalg import Vectors\n",
    "newIncomeSpark = spark.createDataFrame(newIncome)\n",
    "lr = LogisticRegression(maxIter=10, regParam=0.3, elasticNetParam=0.8)\n",
    "lrModel = lr.fit(newIncomeSpark)\n",
    "\n",
    "# # Print the coefficients and intercept for logistic regression\n",
    "# print(\"Coefficients: \" + str(lrModel.coefficients))\n",
    "# print(\"Intercept: \" + str(lrModel.intercept))"
   ]
  },
  {
   "cell_type": "code",
   "execution_count": null,
   "metadata": {},
   "outputs": [],
   "source": [
    "import pandas as pd\n",
    "\n",
    "gender_data = pd.read_csv('./gender.csv')\n",
    "gender_data['F_workers'] = pd.to_numeric(gender_data['F_workers'])\n",
    "gender_data['M_workers'] = pd.to_numeric(gender_data['M_workers'])\n",
    "gender_data['All_workers'] = pd.to_numeric(gender_data['All_workers'])\n",
    "\n",
    "newIncome = gender_data.loc[(gender_data['F_weekly']  != 'Na') & (gender_data['M_weekly'] != 'Na')]\n",
    "newIncome['F_weekly'] = pd.to_numeric(newIncome['F_weekly'])\n",
    "newIncome['M_weekly'] = pd.to_numeric(newIncome['M_weekly'])\n",
    "newIncome['is_male_high_income'] = (newIncome['M_weekly'] > 1000) * 1\n",
    "newIncome['is_female_high_income'] = (newIncome['F_weekly'] > 1000) * 1\n",
    "newIncome['income_ratio'] = newIncome['M_weekly'] / newIncome['F_weekly']\n",
    "del gender_data['F_weekly']\n",
    "del gender_data['M_weekly']\n",
    "del newIncome['M_workers']\n",
    "del newIncome['F_workers']\n",
    "del newIncome['All_workers']\n",
    "print(newIncome)\n",
    "print(gender_data)\n",
    "\n",
    "# model 1\n",
    "from pyspark import SparkContext \n",
    "from pyspark.sql import SQLContext\n",
    "from pyspark.ml.linalg import Vectors\n",
    "from pyspark.ml.feature import VectorAssembler\n",
    "from pyspark.ml.classification import LogisticRegression\n",
    "sc = SparkContext()\n",
    "sqlContext = SQLContext(sc)\n",
    "sparkNewIncome=sqlContext.createDataFrame(newIncome)\n",
    "sparkGender_data=sqlContext.createDataFrame(gender_data)\n",
    "sparkNewIncome.show()\n",
    "from pyspark.ml.linalg import Vector\n",
    "from pyspark.ml.feature import VectorAssembler\n",
    "print(sparkNewIncome.columns)\n",
    "vec_assmebler=VectorAssembler(inputCols=['F_weekly'], outputCol='features')\n",
    "\n",
    "features_df=vec_assmebler.transform(sparkNewIncome)\n",
    "print(features_df)\n",
    "\n",
    "lr = LogisticRegression(labelCol='is_male_high_income')\n",
    "lr_f = LogisticRegression(labelCol='is_female_high_income')\n",
    "lrModel = lr.fit(features_df)\n",
    "\n",
    "print(\"Coefficients: \" + str(lrModel.coefficients))\n",
    "print(\"Intercept: \" + str(lrModel.intercept))\n",
    "\n",
    "lr_f = LogisticRegression(labelCol='is_female_high_income')\n",
    "\n",
    "lrModel_f = lr_f.fit(features_df)\n",
    "print(\"Coefficients: \" + str(lrModel_f.coefficients))\n",
    "print(\"Intercept: \" + str(lrModel_f.intercept))\n",
    "\n",
    "# model 2\n",
    "import matplotlib.pyplot as plt\n",
    "import numpy as np\n",
    "from numpy import polyfit\n",
    "\n",
    "plt.scatter(gender_data['M_workers'], gender_data['F_workers'], color='red', s=30)\n",
    "plt.xlabel('M_workers')\n",
    "plt.ylabel('F_workers')\n",
    "plt.title('Linear Regression FOR ALL JOBS')\n",
    "p1 = polyfit(gender_data['M_workers'], gender_data['F_workers'], 1)\n",
    "plt.plot(gender_data['M_workers'], np.polyval(p1,gender_data['M_workers']), 'g-' )\n",
    "plt.show()\n",
    "\n",
    "# model 3\n",
    "import matplotlib.pyplot as plt\n",
    "import numpy as np\n",
    "from numpy import polyfit\n",
    "\n",
    "newGender_data = gender_data.loc[(gender_data['Category']  == 'MANAGEMENT')]\n",
    "plt.scatter(newGender_data['M_workers'], newGender_data['F_workers'], color='red', s=30)\n",
    "plt.xlabel('M_workers')\n",
    "plt.ylabel('F_workers')\n",
    "plt.title('Linear Regression for MANAGEMENT JOBS')\n",
    "p1 = polyfit(newGender_data['M_workers'], newGender_data['F_workers'], 1)\n",
    "plt.plot(newGender_data['M_workers'], np.polyval(p1,newGender_data['M_workers']), 'g-' )\n",
    "plt.show()\n",
    "\n",
    "import matplotlib.pyplot as plt\n",
    "import numpy as np\n",
    "from numpy import polyfit\n",
    "\n",
    "newGender_data = gender_data.loc[(gender_data['Category']  == 'COMPUTATIONAL')]\n",
    "plt.scatter(newGender_data['M_workers'], newGender_data['F_workers'], color='red', s=30)\n",
    "plt.xlabel('M_workers')\n",
    "plt.ylabel('F_workers')\n",
    "plt.title('Linear Regression for COMPUTATIONAL JOBS')\n",
    "p1 = polyfit(newGender_data['M_workers'], newGender_data['F_workers'], 1)\n",
    "plt.plot(newGender_data['M_workers'], np.polyval(p1,newGender_data['M_workers']), 'g-' )\n",
    "plt.show()\n",
    "\n",
    "import matplotlib.pyplot as plt\n",
    "import numpy as np\n",
    "from numpy import polyfit\n",
    "\n",
    "newGender_data = gender_data.loc[(gender_data['Category']  == 'ARTS')]\n",
    "plt.scatter(newGender_data['M_workers'], newGender_data['F_workers'], color='red', s=30)\n",
    "plt.xlabel('M_workers')\n",
    "plt.ylabel('F_workers')\n",
    "plt.title('Linear Regression for ARTS JOBS')\n",
    "p1 = polyfit(newGender_data['M_workers'], newGender_data['F_workers'], 1)\n",
    "plt.plot(newGender_data['M_workers'], np.polyval(p1,newGender_data['M_workers']), 'g-' )\n",
    "plt.show()\n"
   ]
  },
  {
   "cell_type": "code",
   "execution_count": null,
   "metadata": {},
   "outputs": [],
   "source": [
    "import matplotlib.pyplot as plt\n",
    "import numpy as np\n",
    "from numpy import polyfit\n",
    "\n",
    "newnewIncome = gender_data.loc[(newIncome['Category']  == 'ARTS')]\n",
    "plt.scatter(newnewIncome['M_weekly'], newnewIncome['F_weekly'], color='red', s=30)\n",
    "plt.xlabel('M_weekly')\n",
    "plt.ylabel('F_weekly')\n",
    "plt.title('Linear Regression for ARTS JOBS')\n",
    "p1 = polyfit(newnewIncome['M_weekly'], newnewIncome['F_weekly'], 1)\n",
    "plt.plot(newnewIncome['M_weekly'], np.polyval(p1,newnewIncome['M_weekly']), 'g-' )\n",
    "plt.show()"
   ]
  }
 ],
 "metadata": {
  "kernelspec": {
   "display_name": "Python 3",
   "language": "python",
   "name": "python3"
  },
  "language_info": {
   "codemirror_mode": {
    "name": "ipython",
    "version": 3
   },
   "file_extension": ".py",
   "mimetype": "text/x-python",
   "name": "python",
   "nbconvert_exporter": "python",
   "pygments_lexer": "ipython3",
   "version": "3.7.6"
  }
 },
 "nbformat": 4,
 "nbformat_minor": 4
}
